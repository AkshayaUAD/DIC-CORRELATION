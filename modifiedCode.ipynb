{
 "cells": [
  {
   "cell_type": "code",
   "execution_count": 1,
   "metadata": {},
   "outputs": [
    {
     "name": "stdout",
     "output_type": "stream",
     "text": [
      "CORRELATION COEFFICIENT CALCULATION USING FORMULA \n"
     ]
    },
    {
     "data": {
      "image/png": "[encoded data removed]",
      "text/plain": [
       "<Figure size 432x288 with 1 Axes>"
      ]
     },
     "metadata": {
      "needs_background": "light"
     },
     "output_type": "display_data"
    },
    {
     "name": "stdout",
     "output_type": "stream",
     "text": [
      "Predicting Mental Ability( Age & Score ): \n",
      " r =  -0.5973301212527226 None\n"
     ]
    },
    {
     "data": {
      "image/png": "[encoded data removed]",
      "text/plain": [
       "<Figure size 432x288 with 1 Axes>"
      ]
     },
     "metadata": {
      "needs_background": "light"
     },
     "output_type": "display_data"
    },
    {
     "name": "stdout",
     "output_type": "stream",
     "text": [
      "Tree Stumps and Beetle Larvae: \n",
      " r =  0.9158498450298385 None\n"
     ]
    },
    {
     "data": {
      "image/png": "[encoded data removed]",
      "text/plain": [
       "<Figure size 432x288 with 1 Axes>"
      ]
     },
     "metadata": {
      "needs_background": "light"
     },
     "output_type": "display_data"
    },
    {
     "name": "stdout",
     "output_type": "stream",
     "text": [
      "Speed and Gas Mileage: \n",
      " r =  0.0 None\n"
     ]
    }
   ],
   "source": [
    "import matplotlib.pyplot as plt\n",
    "a1=[15,26,10,9,15,20,18,11,8,20]\n",
    "a2=[96,72,84,92,103,88,94,101,105,95]\n",
    "b1=[2,2,1,3,4,1,5,3,1,2]\n",
    "b2=[11,31,13,25,41,12,57,41,9,15]\n",
    "c1=[20,30,40,50,60]\n",
    "c2=[25,29,31,29,25]\n",
    "def mean(someList):\n",
    "    total = 0\n",
    "    for a in someList:\n",
    "        total += float(a)\n",
    "    mean = total/len(someList)\n",
    "    return mean\n",
    "def standDev(someList):\n",
    "    listMean = mean(someList)\n",
    "    dev = 0.0\n",
    "    for i in range(len(someList)):\n",
    "        dev += (someList[i]-listMean)**2\n",
    "    dev = dev**(1/2.0)\n",
    "    return dev\n",
    "def correlCo(someList1, someList2):\n",
    "\n",
    "    xMean = mean(someList1)\n",
    "    yMean = mean(someList2)\n",
    "    xStandDev = standDev(someList1)\n",
    "    yStandDev = standDev(someList2)\n",
    "\n",
    "    rNum = 0.0\n",
    "    for i in range(len(someList1)):\n",
    "        rNum += (someList1[i]-xMean)*(someList2[i]-yMean)\n",
    "\n",
    "    rDen = xStandDev * yStandDev\n",
    "\n",
    "    r =  rNum/rDen\n",
    "    return r\n",
    "def graph1(str1,str2,list1,list2):\n",
    "    plt.xlabel(str1, fontsize=12)\n",
    "    plt.ylabel(str2, fontsize=12)\n",
    "    plt.scatter(list1, list2)\n",
    "    plt.show()\n",
    "print(\"CORRELATION COEFFICIENT CALCULATION USING FORMULA \")\n",
    "print(\"Predicting Mental Ability( Age & Score ): \\n r = \",correlCo(a1, a2),graph1('Age','Score',a1,a2))\n",
    "print(\"Tree Stumps and Beetle Larvae: \\n r = \",correlCo(b1, b2),graph1('No. of stumps','No. of clusters of beetle larvae',b1,b2))\n",
    "print(\"Speed and Gas Mileage: \\n r = \", correlCo(c1, c2),graph1('Speed','Mileage',c1,c2))\n"
   ]
  },
  {
   "cell_type": "code",
   "execution_count": 2,
   "metadata": {},
   "outputs": [
    {
     "name": "stdout",
     "output_type": "stream",
     "text": [
      "CORRELATION COEFFICIENT CALCULATION PYTHON LIBRARY\n",
      "Predicting Mental Ability( Age & Score ): \n",
      "            Age    Score\n",
      "Age    1.00000 -0.59733\n",
      "Score -0.59733  1.00000 \n",
      "\n",
      "Tree Stumps and Beetle Larvae: \n",
      "                   Stumps  Beetle larvae\n",
      "Stumps         1.00000        0.91585\n",
      "Beetle larvae  0.91585        1.00000 \n",
      "\n",
      "Speed and Gas Mileage: \n",
      "                Miles/Hour  Miles/Gallon\n",
      "Miles/Hour           1.0           0.0\n",
      "Miles/Gallon         0.0           1.0 \n",
      "\n"
     ]
    }
   ],
   "source": [
    "import numpy as np\n",
    "import pandas as pd\n",
    "import matplotlib.pyplot as plt\n",
    "import seaborn as sb\n",
    "def corr(list1):\n",
    "    r=list1.corr(method='pearson')\n",
    "    return r\n",
    "\n",
    "a = pd.read_csv(r\"C:\\Users\\Acer\\Desktop\\ds1.csv\")\n",
    "b = pd.read_csv(r\"C:\\Users\\Acer\\Desktop\\ds2.csv\")\n",
    "c = pd.read_csv(r\"C:\\Users\\Acer\\Desktop\\ds3.csv\")\n",
    "\n",
    "print(\"CORRELATION COEFFICIENT CALCULATION PYTHON LIBRARY\")\n",
    "\n",
    "print(\"Predicting Mental Ability( Age & Score ): \\n\", corr(a),\"\\n\")\n",
    "print(\"Tree Stumps and Beetle Larvae: \\n  \",corr(b),\"\\n\")\n",
    "print(\"Speed and Gas Mileage: \\n \", corr(c),\"\\n\")\n"
   ]
  },
  {
   "cell_type": "code",
   "execution_count": null,
   "metadata": {},
   "outputs": [],
   "source": []
  }
 ],
 "metadata": {
  "kernelspec": {
   "display_name": "Python 3",
   "language": "python",
   "name": "python3"
  },
  "language_info": {
   "codemirror_mode": {
    "name": "ipython",
    "version": 3
   },
   "file_extension": ".py",
   "mimetype": "text/x-python",
   "name": "python",
   "nbconvert_exporter": "python",
   "pygments_lexer": "ipython3",
   "version": "3.7.6"
  }
 },
 "nbformat": 4,
 "nbformat_minor": 4
}
